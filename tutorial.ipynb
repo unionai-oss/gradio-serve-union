{
 "cells": [
  {
   "cell_type": "markdown",
   "id": "6456f8ac",
   "metadata": {},
   "source": [
    "# Serving Gradio Apps on Union.ai\n",
    "\n",
    "This document shows how to serve Gradio apps on Union.ai for several use cases.\n",
    "- [Simple Gradio App with text input](#simple-gradio-app)\n",
    "- [Gradio Chat interface for LLMs](#gradio-app-with-a-model)\n",
    "- [Upload or take a photo for computer vision](#gradio-app-with-a-model-and-a-dataset)\n",
    "\n",
    "Gradio is a Python library that allows you to quickly create user interfaces for machine learning models. It provides a simple way to create web-based applications that can be used for model inference, data visualization, and more.\n",
    "\n",
    "Union.ai is a platform that allows you to deploy and manage machine learning models and applications. It provides a simple way to serve Gradio apps, making it easy to share your work with others.\n",
    "\n",
    "\n",
    "\n",
    "## Simple Gradio App with text input, sliders, and output"
   ]
  },
  {
   "cell_type": "code",
   "execution_count": null,
   "id": "a9d83910",
   "metadata": {},
   "outputs": [],
   "source": []
  },
  {
   "cell_type": "code",
   "execution_count": null,
   "id": "f18498fd",
   "metadata": {},
   "outputs": [],
   "source": []
  },
  {
   "cell_type": "code",
   "execution_count": null,
   "id": "0819b6a7",
   "metadata": {},
   "outputs": [],
   "source": []
  },
  {
   "cell_type": "markdown",
   "id": "5475e1ab",
   "metadata": {},
   "source": [
    "## Serving a chat interface for LLMS"
   ]
  },
  {
   "cell_type": "code",
   "execution_count": null,
   "id": "956c9acf",
   "metadata": {},
   "outputs": [],
   "source": [
    "# app.py"
   ]
  },
  {
   "cell_type": "code",
   "execution_count": null,
   "id": "028f5671",
   "metadata": {},
   "outputs": [],
   "source": []
  },
  {
   "cell_type": "code",
   "execution_count": null,
   "id": "dcb91779",
   "metadata": {},
   "outputs": [],
   "source": []
  },
  {
   "cell_type": "markdown",
   "id": "66807591",
   "metadata": {},
   "source": [
    "## Upload images for computer vision"
   ]
  },
  {
   "cell_type": "code",
   "execution_count": null,
   "id": "aeeed35c",
   "metadata": {},
   "outputs": [],
   "source": []
  },
  {
   "cell_type": "code",
   "execution_count": null,
   "id": "ef898a31",
   "metadata": {},
   "outputs": [],
   "source": []
  }
 ],
 "metadata": {
  "language_info": {
   "name": "python"
  }
 },
 "nbformat": 4,
 "nbformat_minor": 5
}
