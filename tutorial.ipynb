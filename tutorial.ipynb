{
 "cells": [
  {
   "cell_type": "markdown",
   "id": "6456f8ac",
   "metadata": {},
   "source": [
    "# Serving Gradio Apps on Union.ai\n",
    "\n",
    "This document shows how to serve Gradio apps on Union.ai for several use cases.\n",
    "- [Simple Gradio App with text input](#simple-gradio-app)\n",
    "- [Gradio Chat interface for LLMs](#gradio-app-with-a-model)\n",
    "- [Upload or take a photo for computer vision](#gradio-app-with-a-model-and-a-dataset)\n",
    "\n",
    "Gradio is a Python library that allows you to quickly create user interfaces for machine learning models. It provides a simple way to create web-based applications that can be used for model inference, data visualization, and more.\n",
    "\n",
    "Union.ai is a platform that allows you to deploy and manage machine learning models and applications. It provides a simple way to serve Gradio apps, making it easy to share your work with others.\n",
    "\n",
    "\n",
    "\n",
    "## Setup\n",
    "\n",
    "#### Install packages & clone repo"
   ]
  },
  {
   "cell_type": "code",
   "execution_count": null,
   "id": "9be7b1eb",
   "metadata": {},
   "outputs": [],
   "source": [
    "# \n",
    "try:\n",
    "    import google.colab\n",
    "    IN_COLAB = True\n",
    "except ImportError:\n",
    "    IN_COLAB = False\n",
    "\n",
    "if IN_COLAB:\n",
    "    !git clone https://github.com/unionai-oss/gradio-serve-union\n",
    "    %cd https://github.com/unionai-oss/gradio-serve-union\n",
    "    !pip install -r requirements.txt"
   ]
  },
  {
   "cell_type": "markdown",
   "id": "787c0428",
   "metadata": {},
   "source": [
    "#### Authenticate to Union.ai"
   ]
  },
  {
   "cell_type": "code",
   "execution_count": null,
   "id": "56fa26c4",
   "metadata": {},
   "outputs": [],
   "source": [
    "# 👇 Authenticate to union serverless\n",
    "!union create login --serverless --auth device-flow"
   ]
  },
  {
   "cell_type": "markdown",
   "id": "d4e1c63e",
   "metadata": {},
   "source": [
    "## Simple Gradio App with text input, sliders, and output"
   ]
  },
  {
   "cell_type": "code",
   "execution_count": null,
   "id": "a9d83910",
   "metadata": {},
   "outputs": [],
   "source": []
  },
  {
   "cell_type": "code",
   "execution_count": null,
   "id": "f18498fd",
   "metadata": {},
   "outputs": [],
   "source": []
  },
  {
   "cell_type": "code",
   "execution_count": null,
   "id": "0819b6a7",
   "metadata": {},
   "outputs": [],
   "source": []
  },
  {
   "cell_type": "markdown",
   "id": "5475e1ab",
   "metadata": {},
   "source": [
    "## Serving a Chat interface and LLM on Union.ai\n",
    "\n",
    "Find the code for this example in 1_llm_chat folder. \n",
    "- model.py: This file contains a task to download the LLM from Hugging Face and store it as a Union artifact.\n",
    "- app.py This contains the environment, compute, and scaling configuration for the app.\n",
    "- main.py contains the Gradio app code for the chat interface. (This used the Qwen token filtering, you may need to change how the chat is handled if you choose a different model)\n",
    "\n",
    "Explore the code in the files or see the code below in the notebook. \n",
    "\n"
   ]
  },
  {
   "cell_type": "code",
   "execution_count": null,
   "id": "956c9acf",
   "metadata": {},
   "outputs": [],
   "source": [
    "# Run this task to download the model files for the LLM chat example.\n",
    "!union run --remote 1_llm_chat/model.py download_model"
   ]
  },
  {
   "cell_type": "code",
   "execution_count": null,
   "id": "028f5671",
   "metadata": {},
   "outputs": [],
   "source": [
    "%%writefile 1_llm_chat/model.py\n",
    "\n"
   ]
  },
  {
   "cell_type": "code",
   "execution_count": null,
   "id": "dcb91779",
   "metadata": {},
   "outputs": [],
   "source": []
  },
  {
   "cell_type": "markdown",
   "id": "66807591",
   "metadata": {},
   "source": [
    "## Upload images for computer vision"
   ]
  },
  {
   "cell_type": "code",
   "execution_count": null,
   "id": "aeeed35c",
   "metadata": {},
   "outputs": [],
   "source": []
  },
  {
   "cell_type": "code",
   "execution_count": null,
   "id": "ef898a31",
   "metadata": {},
   "outputs": [],
   "source": []
  }
 ],
 "metadata": {
  "language_info": {
   "name": "python"
  }
 },
 "nbformat": 4,
 "nbformat_minor": 5
}
